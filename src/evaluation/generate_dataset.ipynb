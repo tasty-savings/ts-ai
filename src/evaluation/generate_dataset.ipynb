{
 "cells": [
  {
   "cell_type": "markdown",
   "metadata": {},
   "source": [
    "## 맛있는 절약 : 평가용 dataset 생성\n",
    "1. find_keyIngredients_tasty : (사전 생성) 레시피의 핵심 맛과 핵심 재료를 판단\n",
    "2. generate_food_group_radio : (사전 생성) 레시피의 식품군을 판별\n",
    "3. fridge_recipe_transform : (기능) 냉장고 재료 대체 \n",
    "4. simple_recipe_transform : (기능) 레시피 간소화 \n",
    "5. balance_nutrition : (기능) 영양 맞춤형 레시피 \n",
    "\n",
    "## 일반적인 평가용 dataset 생성 case\n",
    "- 검색한 것이 질문과 관련이 있는가?\n",
    "- 답변이 질문과 관련이 있는가?\n",
    "- 답변을 검색한 문서 안에서 답변한 것인가?(할루시네이션 check)\n",
    "\n",
    "## 한계\n",
    "검색한 결과에 대한 정확한 기준 데이터(Ground truth) 구축이 사실상 어려움\n",
    "따라서, 검색한 결과에 대한 Ground truth가 존재한다면 모두 데이터셋으로 활용하고, 아니라면 질문과 답변만으로 데이터셋을 구축하여 활용함\n",
    "⇒ 우리는 레시피 생성시에 RAG가 없기 때문에 질문과 답변만으로 데이터셋을 구축해서 활용함"
   ]
  },
  {
   "cell_type": "code",
   "execution_count": 1,
   "metadata": {},
   "outputs": [
    {
     "data": {
      "text/plain": [
       "True"
      ]
     },
     "execution_count": 1,
     "metadata": {},
     "output_type": "execute_result"
    }
   ],
   "source": [
    "# API KEY를 환경변수로 관리하기 위한 설정 파일\n",
    "from dotenv import load_dotenv\n",
    "\n",
    "# API KEY 정보로드\n",
    "load_dotenv()"
   ]
  },
  {
   "cell_type": "code",
   "execution_count": 4,
   "metadata": {},
   "outputs": [
    {
     "name": "stdout",
     "output_type": "stream",
     "text": [
      "LangSmith 추적을 시작합니다.\n",
      "[프로젝트명]\n",
      "맛있는 절약-Evaluations\n"
     ]
    }
   ],
   "source": [
    "from langchain_teddynote import logging\n",
    "\n",
    "# 프로젝트 이름을 입력합니다.\n",
    "logging.langsmith(\"맛있는 절약-Evaluations\")"
   ]
  },
  {
   "cell_type": "markdown",
   "metadata": {},
   "source": [
    "## 레시피 dataset 100개 가져오기"
   ]
  },
  {
   "cell_type": "code",
   "execution_count": 3,
   "metadata": {},
   "outputs": [
    {
     "name": "stdout",
     "output_type": "stream",
     "text": [
      "find_many 호출됨 - 컬렉션: recipe, limit: 100\n",
      "레시피 데이터를 /Users/minji/workspace/ts-ai/src/recipeinfo_example_dataset.csv에 저장했습니다.\n"
     ]
    }
   ],
   "source": [
    "import os\n",
    "# import sys\n",
    "\n",
    "# # 현재 노트북 파일의 디렉토리 (실행 중인 디렉토리)\n",
    "# notebook_dir = os.getcwd()\n",
    "\n",
    "# # 상위 폴더\n",
    "# parent_dir = os.path.dirname(notebook_dir)\n",
    "# sys.path.append(os.path.abspath(parent_dir))\n",
    "\n",
    "from db import MongoDB  # src/db.py에서 MongoDB 클래스를 가져옴\n",
    "import pandas as pd\n",
    "\n",
    "def get_recipes_and_save_to_csv():\n",
    "    \"\"\"\n",
    "    MongoDB에서 100개의 레시피를 가져와 CSV로 저장\n",
    "    \"\"\"\n",
    "    with MongoDB() as mongo_db:\n",
    "        try:\n",
    "            collection_name = \"recipe\"  # MongoDB 컬렉션 이름\n",
    "            projection = {\n",
    "                \"title\": 1, \"type_key\": 1, \"method_key\": 1,\n",
    "                \"servings\": 1, \"cooking_time\": 1,\n",
    "                \"ingredients\": 1, \"cooking_steps\": 1,\n",
    "                \"difficulty\": 1, \"tips\": 1,\n",
    "            }\n",
    "            recipes = mongo_db.find_many(collection_name, {}, projection, limit=100)\n",
    "\n",
    "            # 데이터프레임으로 변환\n",
    "            recipes_list = [dict(recipe) for recipe in recipes]\n",
    "            for recipe in recipes_list:\n",
    "                recipe['_id'] = str(recipe['_id'])  # ObjectId를 문자열로 변환\n",
    "\n",
    "            df = pd.DataFrame(recipes_list)\n",
    "            \n",
    "            # CSV 파일 저장 경로\n",
    "            csv_file_path = os.path.join(os.getcwd(), \"recipeinfo_example_dataset.csv\")\n",
    "            df.to_csv(csv_file_path, index=False)\n",
    "            print(f\"레시피 데이터를 {csv_file_path}에 저장했습니다.\")\n",
    "        except Exception as e:\n",
    "            print(f\"get_recipes_and_save_to_csv() 오류 발생: {e}\")\n",
    "\n",
    "# 실행\n",
    "get_recipes_and_save_to_csv()"
   ]
  },
  {
   "cell_type": "code",
   "execution_count": 3,
   "metadata": {},
   "outputs": [
    {
     "name": "stdout",
     "output_type": "stream",
     "text": [
      "<class 'pandas.core.frame.DataFrame'>\n",
      "RangeIndex: 100 entries, 0 to 99\n",
      "Data columns (total 10 columns):\n",
      " #   Column         Non-Null Count  Dtype  \n",
      "---  ------         --------------  -----  \n",
      " 0   _id            100 non-null    object \n",
      " 1   title          100 non-null    object \n",
      " 2   type_key       100 non-null    object \n",
      " 3   method_key     100 non-null    object \n",
      " 4   servings       100 non-null    int64  \n",
      " 5   cooking_time   0 non-null      float64\n",
      " 6   difficulty     0 non-null      float64\n",
      " 7   ingredients    100 non-null    object \n",
      " 8   cooking_steps  100 non-null    object \n",
      " 9   tips           100 non-null    object \n",
      "dtypes: float64(2), int64(1), object(7)\n",
      "memory usage: 7.9+ KB\n"
     ]
    }
   ],
   "source": [
    "import pandas as pd\n",
    "recipeinfo_example_dataset = 'recipeinfo_example_dataset.csv'\n",
    "df_recipeinfo_example_dataset = pd.read_csv(recipeinfo_example_dataset)\n",
    "df_recipeinfo_example_dataset.info()\n"
   ]
  },
  {
   "cell_type": "code",
   "execution_count": 3,
   "metadata": {},
   "outputs": [
    {
     "name": "stdout",
     "output_type": "stream",
     "text": [
      "<class 'pandas.core.frame.DataFrame'>\n",
      "RangeIndex: 10 entries, 0 to 9\n",
      "Data columns (total 7 columns):\n",
      " #   Column                    Non-Null Count  Dtype \n",
      "---  ------                    --------------  ----- \n",
      " 0   user_allergy_ingredients  10 non-null     object\n",
      " 1   user_dislike_ingredients  10 non-null     object\n",
      " 2   user_spicy_level          10 non-null     object\n",
      " 3   user_cooking_level        10 non-null     object\n",
      " 4   user_owned_ingredients    10 non-null     object\n",
      " 5   user_basic_seasoning      10 non-null     object\n",
      " 6   must_use_ingredients      10 non-null     object\n",
      "dtypes: object(7)\n",
      "memory usage: 692.0+ bytes\n"
     ]
    }
   ],
   "source": [
    "import pandas as pd\n",
    "userinfo_example_dataset = 'userinfo_example_dataset.csv'\n",
    "df_userinfo_example_dataset = pd.read_csv(userinfo_example_dataset)\n",
    "df_userinfo_example_dataset.info()\n"
   ]
  },
  {
   "cell_type": "code",
   "execution_count": 5,
   "metadata": {},
   "outputs": [
    {
     "name": "stdout",
     "output_type": "stream",
     "text": [
      "데이터셋 생성 완료. 첫 번째 데이터:\n",
      "{'user_info': {'user_allergy_ingredients': ['땅콩'], 'user_dislike_ingredients': ['양파'], 'user_spicy_level': '3단계', 'user_cooking_level': '초급', 'user_owned_ingredients': ['김치', '계란'], 'user_basic_seasoning': ['소금', '후추'], 'must_use_ingredients': ['김치']}, 'recipe_info': {'_id': '673c36d28fad4e3c931146b6', 'title': '새우 두부 계란찜', 'type_key': '반찬', 'method_key': '찜', 'servings': 1, 'cooking_time': '', 'difficulty': '', 'ingredients': ['연두부 75g(3/4모)', '칵테일새우 20g(5마리)', '달걀 30g(1/2개)', '생크림 13g(1큰술)', '설탕 5g(1작은술)', '무염버터 5g(1작은술)', '시금치 10g(3줄기)'], 'cooking_steps': ['1. 손질된 새우를 끓는 물에 데쳐 건진다.', '2. 연두부, 달걀, 생크림, 설탕에 녹인 무염버터를 믹서에 넣고 간 뒤 새우(1)를 함께 섞어 그릇에 담는다.', '3. 시금치를 잘게 다져 혼합물 그릇(2)에 뿌리고 찜기에 넣고 중간 불에서 10분 정도 찐다.'], 'tips': ['나트륨의 배출을 도와주는 것으로 알려진 칼륨이 풍부한 시금치와 소금, 간장 등의 양념 대신 새우에 들어있는 간으로 맛을 내요.']}}\n"
     ]
    }
   ],
   "source": [
    "import pandas as pd\n",
    "\n",
    "# CSV 파일 경로\n",
    "recipeinfo_file = 'recipeinfo_example_dataset.csv'\n",
    "userinfo_file = 'userinfo_example_dataset.csv'\n",
    "\n",
    "# CSV 파일 읽기\n",
    "df_recipeinfo = pd.read_csv(recipeinfo_file)\n",
    "df_userinfo = pd.read_csv(userinfo_file)\n",
    "\n",
    "# Recipe와 User 정보를 결합하여 JSON 형식으로 변환\n",
    "def create_combined_dataset(recipeinfo_df, userinfo_df):\n",
    "    combined_data = []\n",
    "    for index, user_row in userinfo_df.iterrows():\n",
    "        for _, recipe_row in recipeinfo_df.iterrows():\n",
    "            combined_entry = {\n",
    "                \"user_info\": {\n",
    "                    \"user_allergy_ingredients\": eval(user_row[\"user_allergy_ingredients\"]),\n",
    "                    \"user_dislike_ingredients\": eval(user_row[\"user_dislike_ingredients\"]),\n",
    "                    \"user_spicy_level\": user_row[\"user_spicy_level\"],\n",
    "                    \"user_cooking_level\": user_row[\"user_cooking_level\"],\n",
    "                    \"user_owned_ingredients\": eval(user_row[\"user_owned_ingredients\"]),\n",
    "                    \"user_basic_seasoning\": eval(user_row[\"user_basic_seasoning\"]),\n",
    "                    \"must_use_ingredients\": eval(user_row[\"must_use_ingredients\"]),\n",
    "                },\n",
    "                \"recipe_info\": {\n",
    "                    \"_id\": recipe_row[\"_id\"],\n",
    "                    \"title\": recipe_row[\"title\"],\n",
    "                    \"type_key\": recipe_row[\"type_key\"],\n",
    "                    \"method_key\": recipe_row[\"method_key\"],\n",
    "                    \"servings\": recipe_row[\"servings\"],\n",
    "                    \"cooking_time\": recipe_row[\"cooking_time\"] if not pd.isna(recipe_row[\"cooking_time\"]) else \"\",\n",
    "                    \"difficulty\": recipe_row[\"difficulty\"] if not pd.isna(recipe_row[\"difficulty\"]) else \"\",\n",
    "                    \"ingredients\": eval(recipe_row[\"ingredients\"]),\n",
    "                    \"cooking_steps\": eval(recipe_row[\"cooking_steps\"]),\n",
    "                    \"tips\": eval(recipe_row[\"tips\"]),\n",
    "                },\n",
    "            }\n",
    "            combined_data.append(combined_entry)\n",
    "    return combined_data\n",
    "\n",
    "# 데이터셋 생성\n",
    "combined_dataset = create_combined_dataset(df_recipeinfo, df_userinfo)\n",
    "\n",
    "# JSON 데이터셋 저장 (옵션)\n",
    "import json\n",
    "with open('combined_dataset.json', 'w', encoding='utf-8') as f:\n",
    "    json.dump(combined_dataset, f, ensure_ascii=False, indent=4)\n",
    "\n",
    "print(\"데이터셋 생성 완료. 첫 번째 데이터:\")\n",
    "print(combined_dataset[0])\n"
   ]
  },
  {
   "cell_type": "code",
   "execution_count": 6,
   "metadata": {},
   "outputs": [
    {
     "data": {
      "text/plain": [
       "1000"
      ]
     },
     "execution_count": 6,
     "metadata": {},
     "output_type": "execute_result"
    }
   ],
   "source": [
    "len(combined_dataset)"
   ]
  },
  {
   "cell_type": "markdown",
   "metadata": {},
   "source": []
  },
  {
   "cell_type": "code",
   "execution_count": 2,
   "metadata": {},
   "outputs": [
    {
     "data": {
      "text/html": [
       "<div>\n",
       "<style scoped>\n",
       "    .dataframe tbody tr th:only-of-type {\n",
       "        vertical-align: middle;\n",
       "    }\n",
       "\n",
       "    .dataframe tbody tr th {\n",
       "        vertical-align: top;\n",
       "    }\n",
       "\n",
       "    .dataframe thead th {\n",
       "        text-align: right;\n",
       "    }\n",
       "</style>\n",
       "<table border=\"1\" class=\"dataframe\">\n",
       "  <thead>\n",
       "    <tr style=\"text-align: right;\">\n",
       "      <th></th>\n",
       "      <th>user_info</th>\n",
       "      <th>recipe_info</th>\n",
       "    </tr>\n",
       "  </thead>\n",
       "  <tbody>\n",
       "    <tr>\n",
       "      <th>0</th>\n",
       "      <td>{'user_allergy_ingredients': ['땅콩'], 'user_dis...</td>\n",
       "      <td>{'_id': '673c36d28fad4e3c931146b6', 'title': '...</td>\n",
       "    </tr>\n",
       "    <tr>\n",
       "      <th>1</th>\n",
       "      <td>{'user_allergy_ingredients': ['땅콩'], 'user_dis...</td>\n",
       "      <td>{'_id': '673c36d28fad4e3c931146b7', 'title': '...</td>\n",
       "    </tr>\n",
       "    <tr>\n",
       "      <th>2</th>\n",
       "      <td>{'user_allergy_ingredients': ['땅콩'], 'user_dis...</td>\n",
       "      <td>{'_id': '673c36d28fad4e3c931146b8', 'title': '...</td>\n",
       "    </tr>\n",
       "    <tr>\n",
       "      <th>3</th>\n",
       "      <td>{'user_allergy_ingredients': ['땅콩'], 'user_dis...</td>\n",
       "      <td>{'_id': '673c36d28fad4e3c931146b9', 'title': '...</td>\n",
       "    </tr>\n",
       "    <tr>\n",
       "      <th>4</th>\n",
       "      <td>{'user_allergy_ingredients': ['땅콩'], 'user_dis...</td>\n",
       "      <td>{'_id': '673c36d28fad4e3c931146ba', 'title': '...</td>\n",
       "    </tr>\n",
       "    <tr>\n",
       "      <th>...</th>\n",
       "      <td>...</td>\n",
       "      <td>...</td>\n",
       "    </tr>\n",
       "    <tr>\n",
       "      <th>995</th>\n",
       "      <td>{'user_allergy_ingredients': ['참깨'], 'user_dis...</td>\n",
       "      <td>{'_id': '673c36d28fad4e3c93114715', 'title': '...</td>\n",
       "    </tr>\n",
       "    <tr>\n",
       "      <th>996</th>\n",
       "      <td>{'user_allergy_ingredients': ['참깨'], 'user_dis...</td>\n",
       "      <td>{'_id': '673c36d28fad4e3c93114716', 'title': '...</td>\n",
       "    </tr>\n",
       "    <tr>\n",
       "      <th>997</th>\n",
       "      <td>{'user_allergy_ingredients': ['참깨'], 'user_dis...</td>\n",
       "      <td>{'_id': '673c36d28fad4e3c93114717', 'title': '...</td>\n",
       "    </tr>\n",
       "    <tr>\n",
       "      <th>998</th>\n",
       "      <td>{'user_allergy_ingredients': ['참깨'], 'user_dis...</td>\n",
       "      <td>{'_id': '673c36d28fad4e3c93114718', 'title': '...</td>\n",
       "    </tr>\n",
       "    <tr>\n",
       "      <th>999</th>\n",
       "      <td>{'user_allergy_ingredients': ['참깨'], 'user_dis...</td>\n",
       "      <td>{'_id': '673c36d28fad4e3c93114719', 'title': '...</td>\n",
       "    </tr>\n",
       "  </tbody>\n",
       "</table>\n",
       "<p>1000 rows × 2 columns</p>\n",
       "</div>"
      ],
      "text/plain": [
       "                                             user_info  \\\n",
       "0    {'user_allergy_ingredients': ['땅콩'], 'user_dis...   \n",
       "1    {'user_allergy_ingredients': ['땅콩'], 'user_dis...   \n",
       "2    {'user_allergy_ingredients': ['땅콩'], 'user_dis...   \n",
       "3    {'user_allergy_ingredients': ['땅콩'], 'user_dis...   \n",
       "4    {'user_allergy_ingredients': ['땅콩'], 'user_dis...   \n",
       "..                                                 ...   \n",
       "995  {'user_allergy_ingredients': ['참깨'], 'user_dis...   \n",
       "996  {'user_allergy_ingredients': ['참깨'], 'user_dis...   \n",
       "997  {'user_allergy_ingredients': ['참깨'], 'user_dis...   \n",
       "998  {'user_allergy_ingredients': ['참깨'], 'user_dis...   \n",
       "999  {'user_allergy_ingredients': ['참깨'], 'user_dis...   \n",
       "\n",
       "                                           recipe_info  \n",
       "0    {'_id': '673c36d28fad4e3c931146b6', 'title': '...  \n",
       "1    {'_id': '673c36d28fad4e3c931146b7', 'title': '...  \n",
       "2    {'_id': '673c36d28fad4e3c931146b8', 'title': '...  \n",
       "3    {'_id': '673c36d28fad4e3c931146b9', 'title': '...  \n",
       "4    {'_id': '673c36d28fad4e3c931146ba', 'title': '...  \n",
       "..                                                 ...  \n",
       "995  {'_id': '673c36d28fad4e3c93114715', 'title': '...  \n",
       "996  {'_id': '673c36d28fad4e3c93114716', 'title': '...  \n",
       "997  {'_id': '673c36d28fad4e3c93114717', 'title': '...  \n",
       "998  {'_id': '673c36d28fad4e3c93114718', 'title': '...  \n",
       "999  {'_id': '673c36d28fad4e3c93114719', 'title': '...  \n",
       "\n",
       "[1000 rows x 2 columns]"
      ]
     },
     "execution_count": 2,
     "metadata": {},
     "output_type": "execute_result"
    }
   ],
   "source": [
    "import pandas as pd\n",
    "\n",
    "# JSON 파일 경로\n",
    "file_path = 'combined_dataset.json'\n",
    "\n",
    "# JSON 파일을 DataFrame으로 불러오기\n",
    "df = pd.read_json(file_path)\n",
    "\n",
    "df\n"
   ]
  },
  {
   "cell_type": "code",
   "execution_count": null,
   "metadata": {},
   "outputs": [],
   "source": []
  }
 ],
 "metadata": {
  "kernelspec": {
   "display_name": "tasty_savings",
   "language": "python",
   "name": "python3"
  },
  "language_info": {
   "codemirror_mode": {
    "name": "ipython",
    "version": 3
   },
   "file_extension": ".py",
   "mimetype": "text/x-python",
   "name": "python",
   "nbconvert_exporter": "python",
   "pygments_lexer": "ipython3",
   "version": "3.12.7"
  }
 },
 "nbformat": 4,
 "nbformat_minor": 2
}
