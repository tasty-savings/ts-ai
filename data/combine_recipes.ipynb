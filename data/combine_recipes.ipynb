{
 "cells": [
  {
   "metadata": {
    "ExecuteTime": {
     "end_time": "2024-11-09T05:09:01.811305Z",
     "start_time": "2024-11-09T05:09:01.808761Z"
    }
   },
   "cell_type": "code",
   "source": [
    "import pandas as pd\n",
    "import ast\n",
    "import glob"
   ],
   "id": "dfeab9fe7988dd2a",
   "outputs": [],
   "execution_count": 4
  },
  {
   "metadata": {
    "ExecuteTime": {
     "end_time": "2024-11-07T04:47:04.603620Z",
     "start_time": "2024-11-07T04:47:02.792035Z"
    }
   },
   "cell_type": "code",
   "source": [
    "df = pd.read_csv('10000recipe_for_db.csv')\n",
    "type_counts = df['type_key'].value_counts()\n",
    "print(type_counts)"
   ],
   "id": "1924cd53a1964d17",
   "outputs": [
    {
     "name": "stdout",
     "output_type": "stream",
     "text": [
      "type_key\n",
      "반찬         37217\n",
      "밥/죽/떡      13628\n",
      "국/찌개        8014\n",
      "면/만두        6415\n",
      "빵/과자        6098\n",
      "디저트         4543\n",
      "양식          3612\n",
      "샐러드         2432\n",
      "퓨전          1355\n",
      "양념/잼/소스      909\n",
      "스프           779\n",
      "차/음료/술       478\n",
      "Name: count, dtype: int64\n"
     ]
    }
   ],
   "execution_count": 25
  },
  {
   "cell_type": "code",
   "id": "initial_id",
   "metadata": {
    "collapsed": true,
    "ExecuteTime": {
     "end_time": "2024-11-07T04:58:07.853266Z",
     "start_time": "2024-11-07T04:58:06.055794Z"
    }
   },
   "source": [
    "df = pd.read_csv('10000recipe_for_db.csv')\n",
    "banchan_df = df[(df['type_key'] == '반찬') & (df.index >= 8000)]\n",
    "type_counts = banchan_df['method_key'].value_counts()\n",
    "print(type_counts)"
   ],
   "outputs": [
    {
     "name": "stdout",
     "output_type": "stream",
     "text": [
      "method_key\n",
      "볶음     6864\n",
      "굽기     4431\n",
      "부침     4302\n",
      "찜      3216\n",
      "무침     2720\n",
      "조림     2531\n",
      "튀김     2022\n",
      "끓이기    2017\n",
      "삶기      697\n",
      "절임      252\n",
      "회       107\n",
      "비빔       58\n",
      "Name: count, dtype: int64\n"
     ]
    }
   ],
   "execution_count": 36
  },
  {
   "metadata": {
    "ExecuteTime": {
     "end_time": "2024-11-07T05:26:16.109762Z",
     "start_time": "2024-11-07T05:26:13.884897Z"
    }
   },
   "cell_type": "code",
   "source": [
    "df = pd.read_csv('recipe_analysis_checkpoint_20241107_091855.csv')\n",
    "def safe_eval(x):\n",
    "    try:\n",
    "        return ast.literal_eval(x) if pd.notna(x) else []\n",
    "    except:\n",
    "        return []\n",
    "\n",
    "df['recipe_type'] = df['recipe_type'].apply(safe_eval)\n",
    "\n",
    "# 빈 리스트인 행 제거\n",
    "df = df[df['recipe_type'].apply(len) > 0]\n",
    "# banchan_df = df[df['type_key'] == '반찬']\n",
    "type_counts = df['type_key'].value_counts()\n",
    "print(type_counts)"
   ],
   "id": "becf9728f5fcc478",
   "outputs": [
    {
     "name": "stdout",
     "output_type": "stream",
     "text": [
      "type_key\n",
      "반찬    7900\n",
      "Name: count, dtype: int64\n"
     ]
    }
   ],
   "execution_count": 63
  },
  {
   "metadata": {
    "ExecuteTime": {
     "end_time": "2024-11-07T05:49:41.477662Z",
     "start_time": "2024-11-07T05:49:41.428552Z"
    }
   },
   "cell_type": "code",
   "source": [
    "df = pd.read_csv('jori_recipe_for_db.csv')\n",
    "type_counts = df['type_key'].value_counts()\n",
    "print(type_counts)\n",
    "df.info()"
   ],
   "id": "79318eb5e9ba2838",
   "outputs": [
    {
     "name": "stdout",
     "output_type": "stream",
     "text": [
      "type_key\n",
      "반찬         478\n",
      "밥/죽/떡      129\n",
      "국/찌개        97\n",
      "면/만두        87\n",
      "양식          76\n",
      "빵/과자        76\n",
      "샐러드         68\n",
      "디저트         43\n",
      "스프          26\n",
      "차/음료/술      23\n",
      "퓨전           7\n",
      "양념/잼/소스      1\n",
      "Name: count, dtype: int64\n",
      "<class 'pandas.core.frame.DataFrame'>\n",
      "RangeIndex: 1111 entries, 0 to 1110\n",
      "Data columns (total 13 columns):\n",
      " #   Column         Non-Null Count  Dtype  \n",
      "---  ------         --------------  -----  \n",
      " 0   title          1111 non-null   object \n",
      " 1   main_img       1111 non-null   object \n",
      " 2   type_key       1111 non-null   object \n",
      " 3   method_key     1111 non-null   object \n",
      " 4   servings       1111 non-null   int64  \n",
      " 5   cooking_time   0 non-null      float64\n",
      " 6   difficulty     0 non-null      float64\n",
      " 7   ingredient     1111 non-null   object \n",
      " 8   cooking_order  1111 non-null   object \n",
      " 9   cooking_img    1111 non-null   object \n",
      " 10  hashtag        1111 non-null   object \n",
      " 11  tips           1111 non-null   object \n",
      " 12  recipe_type    1111 non-null   object \n",
      "dtypes: float64(2), int64(1), object(10)\n",
      "memory usage: 113.0+ KB\n"
     ]
    }
   ],
   "execution_count": 67
  },
  {
   "metadata": {
    "ExecuteTime": {
     "end_time": "2024-11-09T05:28:11.836950Z",
     "start_time": "2024-11-09T05:28:09.644524Z"
    }
   },
   "cell_type": "code",
   "source": [
    "df = pd.read_csv('recipe_analysis_checkpoint_20241107_091855.csv')\n",
    "def safe_eval(x):\n",
    "    try:\n",
    "        return ast.literal_eval(x) if pd.notna(x) else []\n",
    "    except:\n",
    "        return []\n",
    "\n",
    "df['recipe_type'] = df['recipe_type'].apply(safe_eval)\n",
    "\n",
    "# 빈 리스트인 행 제거\n",
    "df = df[df['recipe_type'].apply(len) > 0]\n",
    "df.to_csv('recipe_analysis_checkpoint_20241107_091855.csv', index=False)"
   ],
   "id": "f0bae0b019b19bb",
   "outputs": [],
   "execution_count": 28
  },
  {
   "metadata": {
    "ExecuteTime": {
     "end_time": "2024-11-08T05:42:08.504906Z",
     "start_time": "2024-11-08T05:42:06.692640Z"
    }
   },
   "cell_type": "code",
   "source": [
    "import pandas as pd\n",
    "import numpy as np\n",
    "\n",
    "# CSV 파일 읽기\n",
    "df = pd.read_csv('10000recipe_for_db.csv')\n",
    "\n",
    "banchan_df = df[(df.index >= 8000) & (df['type_key'] == '샐러드')]\n",
    "\n",
    "# 필터링된 데이터에서 method_key 비율 계산\n",
    "method_counts = banchan_df['method_key'].value_counts()\n",
    "total = method_counts.sum()\n",
    "\n",
    "# 비율 계산 및 소수점 처리\n",
    "raw_ratios = {method_type: (count/total) * 800 for method_type, count in method_counts.items()}\n",
    "ratios = {k: int(v) for k, v in raw_ratios.items()}\n",
    "\n",
    "# 합계가 800이 되도록 조정\n",
    "current_sum = sum(ratios.values())\n",
    "difference = 800 - current_sum\n",
    "\n",
    "if difference > 0:\n",
    "    # 소수점 부분이 가장 큰 순서대로 1씩 더해줌\n",
    "    decimal_parts = {k: v - int(v) for k, v in raw_ratios.items()}\n",
    "    sorted_types = sorted(decimal_parts.keys(), key=lambda x: decimal_parts[x], reverse=True)\n",
    "    \n",
    "    for i in range(difference):\n",
    "        ratios[sorted_types[i]] += 1\n",
    "\n",
    "# 각 타입별로 샘플링하여 결과 저장\n",
    "sampled_dfs = []\n",
    "for method_type, sample_size in ratios.items():\n",
    "    type_df = banchan_df[banchan_df['method_key'] == method_type]\n",
    "    if len(type_df) >= sample_size:\n",
    "        sampled = type_df.sample(n=sample_size, random_state=42)\n",
    "    else:\n",
    "        sampled = type_df  # 만약 해당 타입의 데이터가 필요한 샘플 수보다 적다면 전부 사용\n",
    "    sampled_dfs.append(sampled)\n",
    "\n",
    "# 모든 샘플을 하나의 데이터프레임으로 합치기\n",
    "final_sample = pd.concat(sampled_dfs)\n",
    "\n",
    "# 결과 확인\n",
    "print(\"최종 샘플 크기:\", len(final_sample))\n",
    "print(\"\\n타입별 분포:\")\n",
    "print(final_sample['method_key'].value_counts())\n",
    "\n",
    "# 결과 저장 (필요한 경우)\n",
    "final_sample.to_csv('banchan_samples7.csv', index=False)"
   ],
   "id": "5791914e885559d6",
   "outputs": [
    {
     "name": "stdout",
     "output_type": "stream",
     "text": [
      "최종 샘플 크기: 800\n",
      "\n",
      "타입별 분포:\n",
      "method_key\n",
      "무침     402\n",
      "굽기     101\n",
      "삶기      86\n",
      "비빔      71\n",
      "볶음      37\n",
      "튀김      24\n",
      "찜       22\n",
      "절임      22\n",
      "회       13\n",
      "끓이기     12\n",
      "부침       8\n",
      "조림       2\n",
      "Name: count, dtype: int64\n"
     ]
    }
   ],
   "execution_count": 2
  },
  {
   "metadata": {
    "ExecuteTime": {
     "end_time": "2024-11-09T05:09:07.537578Z",
     "start_time": "2024-11-09T05:09:06.857966Z"
    }
   },
   "cell_type": "code",
   "source": [
    "# CSV 파일들의 경로 패턴 지정\n",
    "file_pattern = 'banchan_sample*.csv'  # banchan_sample로 시작하는 모든 csv 파일\n",
    "\n",
    "# 모든 파일 목록 가져오기\n",
    "all_files = glob.glob(file_pattern)\n",
    "\n",
    "# 데이터프레임을 저장할 리스트 생성\n",
    "df_list = []\n",
    "\n",
    "# 각 파일을 읽어서 리스트에 추가\n",
    "for file in all_files:\n",
    "    df = pd.read_csv(file)\n",
    "    df_list.append(df)\n",
    "\n",
    "# 모든 데이터프레임을 하나로 통합\n",
    "combined_df = pd.concat(df_list, ignore_index=True)\n",
    "\n",
    "# 통합된 파일 저장\n",
    "combined_df.to_csv('combined_banchan_samples.csv', index=False)\n",
    "\n",
    "# 결과 확인\n",
    "print(\"통합된 파일의 총 행 수:\", len(combined_df))\n",
    "print(\"\\n각 파일별 행 수:\")\n",
    "for file in all_files:\n",
    "    df = pd.read_csv(file)\n",
    "    print(f\"{file}: {len(df)} 행\")"
   ],
   "id": "6de136889a8f099e",
   "outputs": [
    {
     "name": "stdout",
     "output_type": "stream",
     "text": [
      "통합된 파일의 총 행 수: 9257\n",
      "\n",
      "각 파일별 행 수:\n",
      "banchan_samples11.csv: 478 행\n",
      "banchan_samples10.csv: 779 행\n",
      "banchan_samples7.csv: 800 행\n",
      "banchan_samples6.csv: 800 행\n",
      "banchan_samples4.csv: 800 행\n",
      "banchan_samples5.csv: 800 행\n",
      "banchan_samples1.csv: 800 행\n",
      "banchan_samples2.csv: 800 행\n",
      "banchan_samples3.csv: 800 행\n",
      "banchan_samples8.csv: 800 행\n",
      "banchan_samples9.csv: 800 행\n",
      "banchan_samples.csv: 800 행\n"
     ]
    }
   ],
   "execution_count": 5
  },
  {
   "metadata": {
    "ExecuteTime": {
     "end_time": "2024-11-09T05:39:14.288147Z",
     "start_time": "2024-11-09T05:39:13.886055Z"
    }
   },
   "cell_type": "code",
   "source": [
    "df = pd.read_csv(\"final_recipes.csv\", encoding='utf-8', low_memory=False)\n",
    "df['recipe_type'] = df['recipe_type'].apply(ast.literal_eval)\n",
    "type_counts = pd.Series([item for sublist in df['recipe_type'] for item in sublist]).value_counts(dropna=False)\n",
    "pd.set_option('display.max_rows', None)  # 모든 행 표시\n",
    "pd.set_option('display.max_columns', None)  # 모든 열 표시\n",
    "print(type_counts)"
   ],
   "id": "e0c0505f85700905",
   "outputs": [
    {
     "name": "stdout",
     "output_type": "stream",
     "text": [
      "고단백       9721\n",
      "한식        9513\n",
      "저칼로리      7411\n",
      "반찬        4557\n",
      "매운맛1단계    4395\n",
      "해산물       4196\n",
      "볶음        2761\n",
      "채식        2528\n",
      "간편식       2032\n",
      "조림        1770\n",
      "새콤달콤한맛    1590\n",
      "양식        1502\n",
      "주식        1486\n",
      "건강식       1484\n",
      "국         1438\n",
      "고섬유       1293\n",
      "무침        1264\n",
      "디저트       1207\n",
      "구이        1201\n",
      "비타민       1186\n",
      "전         1158\n",
      "저염식       1134\n",
      "퓨전        1078\n",
      "담백한맛       967\n",
      "찜          962\n",
      "튀김         914\n",
      "샐러드        858\n",
      "부침         844\n",
      "스프         725\n",
      "전통식        546\n",
      "음료         458\n",
      "매운맛2단계     374\n",
      "소화촉진       205\n",
      "저당식        195\n",
      "체중조절       179\n",
      "일식         151\n",
      "장건강        112\n",
      "특별식        105\n",
      "가벼운        104\n",
      "중식         103\n",
      "삶기          96\n",
      "죽           83\n",
      "글루텐프리       70\n",
      "매운맛3단계      63\n",
      "매운맛4단계      31\n",
      "저탄수화물       27\n",
      "무기질         22\n",
      "생식          16\n",
      "매운맛5단계       4\n",
      "Name: count, dtype: int64\n"
     ]
    }
   ],
   "execution_count": 37
  },
  {
   "metadata": {
    "ExecuteTime": {
     "end_time": "2024-11-09T05:28:55.080847Z",
     "start_time": "2024-11-09T05:28:55.075982Z"
    }
   },
   "cell_type": "code",
   "source": [
    "mapping = {\n",
    "    '다이어트에 좋은': '체중조절',\n",
    "    '다양한 식이섬유': '고섬유',\n",
    "    '다이어트샐러드': '체중조절',\n",
    "    '다이어트 요리': '체중조절',\n",
    "    '비건요리': '채식',\n",
    "    '상큼달콤한맛': '새콤달콤한맛'\n",
    "}\n",
    "\n",
    "df['recipe_type'] = df['recipe_type'].apply(lambda x: [mapping.get(i, i) for i in x])"
   ],
   "id": "92fef9032c390d01",
   "outputs": [],
   "execution_count": 30
  },
  {
   "metadata": {
    "ExecuteTime": {
     "end_time": "2024-11-09T05:28:55.126465Z",
     "start_time": "2024-11-09T05:28:55.083081Z"
    }
   },
   "cell_type": "code",
   "source": [
    "# 제외하고 싶은 타입들을 리스트로 정의\n",
    "remove_categories = [\n",
    "    '채소', '고구마', '고칼로리', '찬', '피클', '다이어트', '다이어트식', '달콤한맛', '고추장', '계란요리', '다이어트음식', '다이어트식단', '겨울호박으로 별미', '고탄수화물', '유기농',\n",
    "    '계란', '계란말이', '한국식', '달콤짭짤한맛', '단짠단짠', '계란 요리', '다이어트 음식', '비건', '고급 요리', '비건식', '아이반찬', '고소한맛', '부드러운', '상큼한맛', '염증치료',\n",
    "    '찌기', '고추가루', '다이어트요리', '고춧가루', '단짠단짠한맛', '구수한맛', '봄나물', '해독주스', '과일', '단짠한맛', '보양식', '브런치', '비빔', '냉채', '향신료', '발효식품',\n",
    "    '여름식', '고구이', '디톡스', '고소짭쟐', '고기구이', '준비식', '달달한맛', '비건파스타', '즉석식', '아삭아삭한식', '프루트잼', '발효식', '영양수프', '무카페인', '비건라떼',\n",
    "    '디톡스주스', '허브차', '민트차', '비건 스프', '다양한 영양소', '다이어트 스프', '다이어트스프', '유치원 초등 아이 간식', '푸드'\n",
    "]\n",
    "\n",
    "df['recipe_type'] = df['recipe_type'].apply(lambda x: [item for item in x if item not in remove_categories])\n",
    "df['recipe_type'] = df['recipe_type'].apply(lambda x: list(dict.fromkeys(x)))"
   ],
   "id": "e95151c13267e4e5",
   "outputs": [],
   "execution_count": 31
  },
  {
   "metadata": {
    "ExecuteTime": {
     "end_time": "2024-11-09T05:29:05.645178Z",
     "start_time": "2024-11-09T05:29:05.512859Z"
    }
   },
   "cell_type": "code",
   "source": "df.to_csv('samples.csv', index=False)",
   "id": "2fa7a1620d88269d",
   "outputs": [],
   "execution_count": 32
  },
  {
   "metadata": {
    "ExecuteTime": {
     "end_time": "2024-11-09T05:39:39.366014Z",
     "start_time": "2024-11-09T05:39:38.652685Z"
    }
   },
   "cell_type": "code",
   "source": [
    "import pandas as pd\n",
    "\n",
    "df1 = pd.read_csv('jori_recipe_for_db.csv')\n",
    "df2 = pd.read_csv('final_recipes.csv')\n",
    "\n",
    "# 데이터프레임 합치기\n",
    "combined_df = pd.concat([df1, df2], ignore_index=True)\n",
    "\n",
    "# 결과를 CSV 파일로 저장\n",
    "combined_df.to_csv('final_recipes.csv', index=False, encoding='utf-8-sig')\n",
    "\n",
    "print(f'처리 완료!\\n- 첫 번째 파일 행 수: {len(df1)}\\n- 두 번째 파일 행 수: {len(df2)}\\n- 병합 후 전체 행 수: {len(combined_df)}')"
   ],
   "id": "18c7748ddd5c9b8c",
   "outputs": [
    {
     "name": "stdout",
     "output_type": "stream",
     "text": [
      "처리 완료!\n",
      "- 첫 번째 파일 행 수: 1111\n",
      "- 두 번째 파일 행 수: 17157\n",
      "- 병합 후 전체 행 수: 18268\n"
     ]
    }
   ],
   "execution_count": 39
  }
 ],
 "metadata": {
  "kernelspec": {
   "display_name": "Python 3",
   "language": "python",
   "name": "python3"
  },
  "language_info": {
   "codemirror_mode": {
    "name": "ipython",
    "version": 2
   },
   "file_extension": ".py",
   "mimetype": "text/x-python",
   "name": "python",
   "nbconvert_exporter": "python",
   "pygments_lexer": "ipython2",
   "version": "2.7.6"
  }
 },
 "nbformat": 4,
 "nbformat_minor": 5
}
